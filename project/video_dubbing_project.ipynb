{
  "nbformat": 4,
  "nbformat_minor": 0,
  "metadata": {
    "colab": {
      "provenance": [],
      "authorship_tag": "ABX9TyNFIpdq9pTUl7b25w/gjbM8"
    },
    "kernelspec": {
      "name": "python3",
      "display_name": "Python 3"
    },
    "language_info": {
      "name": "python"
    }
  },
  "cells": [
    {
      "cell_type": "markdown",
      "source": [
        "### Предобработка данных"
      ],
      "metadata": {
        "id": "zemHzLrPKDl3"
      }
    },
    {
      "cell_type": "code",
      "source": [
        "!pip install -q ffmpeg-python"
      ],
      "metadata": {
        "id": "tahkYubuOmb1"
      },
      "execution_count": 1,
      "outputs": []
    },
    {
      "cell_type": "code",
      "source": [
        "!pip install -q silero-vad"
      ],
      "metadata": {
        "colab": {
          "base_uri": "https://localhost:8080/"
        },
        "id": "dmOkV2FFgYuY",
        "outputId": "a5fe4902-ab93-4c35-e1b8-cbde7b04b3b5"
      },
      "execution_count": 2,
      "outputs": [
        {
          "output_type": "stream",
          "name": "stdout",
          "text": [
            "\u001b[2K   \u001b[90m━━━━━━━━━━━━━━━━━━━━━━━━━━━━━━━━━━━━━━━━\u001b[0m \u001b[32m5.0/5.0 MB\u001b[0m \u001b[31m24.4 MB/s\u001b[0m eta \u001b[36m0:00:00\u001b[0m\n",
            "\u001b[2K   \u001b[90m━━━━━━━━━━━━━━━━━━━━━━━━━━━━━━━━━━━━━━━━\u001b[0m \u001b[32m16.4/16.4 MB\u001b[0m \u001b[31m44.6 MB/s\u001b[0m eta \u001b[36m0:00:00\u001b[0m\n",
            "\u001b[2K   \u001b[90m━━━━━━━━━━━━━━━━━━━━━━━━━━━━━━━━━━━━━━━━\u001b[0m \u001b[32m363.4/363.4 MB\u001b[0m \u001b[31m3.5 MB/s\u001b[0m eta \u001b[36m0:00:00\u001b[0m\n",
            "\u001b[2K   \u001b[90m━━━━━━━━━━━━━━━━━━━━━━━━━━━━━━━━━━━━━━━━\u001b[0m \u001b[32m13.8/13.8 MB\u001b[0m \u001b[31m46.3 MB/s\u001b[0m eta \u001b[36m0:00:00\u001b[0m\n",
            "\u001b[2K   \u001b[90m━━━━━━━━━━━━━━━━━━━━━━━━━━━━━━━━━━━━━━━━\u001b[0m \u001b[32m24.6/24.6 MB\u001b[0m \u001b[31m47.1 MB/s\u001b[0m eta \u001b[36m0:00:00\u001b[0m\n",
            "\u001b[2K   \u001b[90m━━━━━━━━━━━━━━━━━━━━━━━━━━━━━━━━━━━━━━━━\u001b[0m \u001b[32m883.7/883.7 kB\u001b[0m \u001b[31m30.9 MB/s\u001b[0m eta \u001b[36m0:00:00\u001b[0m\n",
            "\u001b[2K   \u001b[90m━━━━━━━━━━━━━━━━━━━━━━━━━━━━━━━━━━━━━━━━\u001b[0m \u001b[32m664.8/664.8 MB\u001b[0m \u001b[31m2.3 MB/s\u001b[0m eta \u001b[36m0:00:00\u001b[0m\n",
            "\u001b[2K   \u001b[90m━━━━━━━━━━━━━━━━━━━━━━━━━━━━━━━━━━━━━━━━\u001b[0m \u001b[32m211.5/211.5 MB\u001b[0m \u001b[31m5.9 MB/s\u001b[0m eta \u001b[36m0:00:00\u001b[0m\n",
            "\u001b[2K   \u001b[90m━━━━━━━━━━━━━━━━━━━━━━━━━━━━━━━━━━━━━━━━\u001b[0m \u001b[32m56.3/56.3 MB\u001b[0m \u001b[31m10.8 MB/s\u001b[0m eta \u001b[36m0:00:00\u001b[0m\n",
            "\u001b[2K   \u001b[90m━━━━━━━━━━━━━━━━━━━━━━━━━━━━━━━━━━━━━━━━\u001b[0m \u001b[32m127.9/127.9 MB\u001b[0m \u001b[31m8.5 MB/s\u001b[0m eta \u001b[36m0:00:00\u001b[0m\n",
            "\u001b[2K   \u001b[90m━━━━━━━━━━━━━━━━━━━━━━━━━━━━━━━━━━━━━━━━\u001b[0m \u001b[32m207.5/207.5 MB\u001b[0m \u001b[31m5.0 MB/s\u001b[0m eta \u001b[36m0:00:00\u001b[0m\n",
            "\u001b[2K   \u001b[90m━━━━━━━━━━━━━━━━━━━━━━━━━━━━━━━━━━━━━━━━\u001b[0m \u001b[32m21.1/21.1 MB\u001b[0m \u001b[31m61.0 MB/s\u001b[0m eta \u001b[36m0:00:00\u001b[0m\n",
            "\u001b[2K   \u001b[90m━━━━━━━━━━━━━━━━━━━━━━━━━━━━━━━━━━━━━━━━\u001b[0m \u001b[32m46.0/46.0 kB\u001b[0m \u001b[31m1.7 MB/s\u001b[0m eta \u001b[36m0:00:00\u001b[0m\n",
            "\u001b[2K   \u001b[90m━━━━━━━━━━━━━━━━━━━━━━━━━━━━━━━━━━━━━━━━\u001b[0m \u001b[32m86.8/86.8 kB\u001b[0m \u001b[31m3.8 MB/s\u001b[0m eta \u001b[36m0:00:00\u001b[0m\n",
            "\u001b[?25h"
          ]
        }
      ]
    },
    {
      "cell_type": "code",
      "execution_count": 3,
      "metadata": {
        "id": "mV36oXRXJ6rL"
      },
      "outputs": [],
      "source": [
        "import os\n",
        "from google.colab import files\n",
        "# import json\n",
        "import ffmpeg"
      ]
    },
    {
      "cell_type": "code",
      "source": [
        "VIDEO1_PATH = \"Bill_Gates_TED.mp4\"\n",
        "VIDEO2_PATH = \"Kat_Cole_TED.mp4\"\n",
        "MIN_SILENCE_LEN = 1000\n",
        "SILENCE_THRESH = -40\n",
        "\n",
        "\n",
        "os.makedirs(\"output_segments/segments1\", exist_ok=True)\n",
        "os.makedirs(\"output_segments/segments2\", exist_ok=True)"
      ],
      "metadata": {
        "id": "Yu1xe-pAM5hS"
      },
      "execution_count": 4,
      "outputs": []
    },
    {
      "cell_type": "code",
      "source": [
        "def extract_audio(video_path, audio_path):\n",
        "    ffmpeg.input(video_path).output(\n",
        "        audio_path,\n",
        "        format=\"wav\",\n",
        "        ac=1,         # mono\n",
        "        ar=16000,     # 16kHz\n",
        "        vn=None\n",
        "    ).run(overwrite_output=True)"
      ],
      "metadata": {
        "id": "nMJZPCT9OzsK"
      },
      "execution_count": 5,
      "outputs": []
    },
    {
      "cell_type": "code",
      "source": [
        "# def segment_audio_robust(audio_path, output_dir, min_silence_len=500, silence_thresh_offset=14, min_chunk_len=5000, max_chunk_len=30000):\n",
        "#     audio = AudioSegment.from_file(audio_path, format=\"wav\")\n",
        "#     silence_thresh = audio.dBFS - silence_thresh_offset\n",
        "\n",
        "#     print(f\"💡 silence_thresh = {silence_thresh:.2f} dBFS\")\n",
        "#     chunks = split_on_silence(audio,\n",
        "#         min_silence_len=min_silence_len,\n",
        "#         silence_thresh=silence_thresh,\n",
        "#         keep_silence=150  # сохраняем немного тишины в начале/конце сегмента\n",
        "#     )\n",
        "\n",
        "#     # fallback: если split_on_silence не сработал — режем по таймеру\n",
        "#     if not chunks or sum(len(c) for c in chunks) < len(audio) * 0.6:\n",
        "#         print(\"⚠️ Недостаточно сегментов — делим по времени (fixed chunk size)\")\n",
        "#         chunks = [audio[i:i + max_chunk_len] for i in range(0, len(audio), max_chunk_len)]\n",
        "\n",
        "#     os.makedirs(output_dir, exist_ok=True)\n",
        "#     metadata = []\n",
        "#     cursor = 0\n",
        "\n",
        "#     return chunks"
      ],
      "metadata": {
        "id": "XymB1ub-X1U9"
      },
      "execution_count": 68,
      "outputs": []
    },
    {
      "cell_type": "code",
      "source": [
        "extract_audio(VIDEO1_PATH, \"output_segments/extracted_audio1.wav\")\n",
        "extract_audio(VIDEO2_PATH, \"output_segments/extracted_audio2.wav\")"
      ],
      "metadata": {
        "id": "CTE54y3Fh_-v"
      },
      "execution_count": 6,
      "outputs": []
    },
    {
      "cell_type": "code",
      "source": [
        "import torch\n",
        "import torchaudio\n",
        "from silero_vad import load_silero_vad, read_audio, get_speech_timestamps, collect_chunks\n",
        "\n",
        "model = load_silero_vad()\n",
        "\n",
        "wav1 = read_audio(\"output_segments/extracted_audio1.wav\", sampling_rate=16000)\n",
        "speech_timestamps1 = get_speech_timestamps(\n",
        "  wav1,\n",
        "  model,\n",
        "  sampling_rate=16000\n",
        ")\n",
        "\n",
        "wav2 = read_audio(\"output_segments/extracted_audio2.wav\", sampling_rate=16000)\n",
        "speech_timestamps2 = get_speech_timestamps(\n",
        "  wav2,\n",
        "  model,\n",
        "  sampling_rate=16000\n",
        ")"
      ],
      "metadata": {
        "id": "CgGT6OSsgV9g"
      },
      "execution_count": 7,
      "outputs": []
    },
    {
      "cell_type": "code",
      "source": [
        "def save_segments(wav, timestamps, out_dir):\n",
        "    os.makedirs(out_dir, exist_ok=True)\n",
        "    for i, t in enumerate(timestamps):\n",
        "        segment = wav[t[\"start\"]:t[\"end\"]]\n",
        "        segment = segment.unsqueeze(0)\n",
        "        torchaudio.save(f\"{out_dir}/segment_{i:03d}.wav\", segment, 16000)\n",
        "\n",
        "save_segments(wav1, speech_timestamps1, \"output_segments/segments1\")\n",
        "save_segments(wav2, speech_timestamps2, \"output_segments/segments2\")"
      ],
      "metadata": {
        "id": "DQ9eqb2IjDY0"
      },
      "execution_count": 8,
      "outputs": []
    }
  ]
}